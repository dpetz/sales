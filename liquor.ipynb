{
 "cells": [
  {
   "cell_type": "markdown",
   "metadata": {},
   "source": [
    "[Big Sales Data](https://www.kaggle.com/datasets/pigment/big-sales-data)"
   ]
  },
  {
   "cell_type": "markdown",
   "metadata": {},
   "source": [
    "dependency: [pandas-categorical](https://pypi.org/project/pandas-categorical/)\n",
    "```\n",
    "pip install pandas-categorical\n",
    "```\n"
   ]
  },
  {
   "cell_type": "code",
   "execution_count": 4,
   "metadata": {},
   "outputs": [],
   "source": [
    "import numpy as np\n",
    "import pandas as pd\n",
    "import pandas_categorical as pdc"
   ]
  },
  {
   "cell_type": "code",
   "execution_count": 5,
   "metadata": {},
   "outputs": [],
   "source": [
    "# optimal column types\n",
    "SUB_DTYPES = {\n",
    "    'Invoice/Item Number': \"string\",\n",
    "    'Date': 'datetime64[ns]',\n",
    "    'Store Number': \"uint16\",\n",
    "    'Store Name': \"string\",\n",
    "    'Address': 'string',\n",
    "    'City': \"string\",\n",
    "    'Zip Code': 'string',\n",
    "    'Store Location': 'string',\n",
    "    'County Number': \"Int16\",\n",
    "    'County': \"string\",\n",
    "    'Category': \"Int32\",\n",
    "    'Category Name': 'string',\n",
    "    'Vendor Number': \"Int16\",\n",
    "    'Vendor Name': 'string',\n",
    "    'Item Number': \"string\",\n",
    "    'Item Description': \"string\",\n",
    "    'Pack': \"uint16\",\n",
    "    'Bottle Volume (ml)': \"uint32\",\n",
    "    'State Bottle Cost': float,\n",
    "    'State Bottle Retail': float,\n",
    "    'Bottles Sold': int,\n",
    "    'Sale (Dollars)': float,\n",
    "    'Volume Sold (Liters)': float,\n",
    "    'Volume Sold (Gallons)': float,\n",
    "}"
   ]
  },
  {
   "cell_type": "code",
   "execution_count": 6,
   "metadata": {},
   "outputs": [],
   "source": [
    "df = pd.read_csv(\n",
    "    \"data/raw/Liquor_Sales.csv\",\n",
    "    engine='pyarrow',\n",
    "    dtype=SUB_DTYPES\n",
    ")"
   ]
  },
  {
   "cell_type": "code",
   "execution_count": 7,
   "metadata": {},
   "outputs": [
    {
     "data": {
      "text/plain": [
       "19666763"
      ]
     },
     "execution_count": 7,
     "metadata": {},
     "output_type": "execute_result"
    }
   ],
   "source": [
    "len(df)"
   ]
  },
  {
   "cell_type": "code",
   "execution_count": 8,
   "metadata": {},
   "outputs": [],
   "source": [
    "# Let's put a small part of the data aside\n",
    "(_, df), (_, df_1) = df.groupby(df.index < 1000)"
   ]
  },
  {
   "cell_type": "code",
   "execution_count": 9,
   "metadata": {},
   "outputs": [
    {
     "name": "stdout",
     "output_type": "stream",
     "text": [
      "<class 'pandas.core.frame.DataFrame'>\n",
      "Index: 19665763 entries, 1000 to 19666762\n",
      "Data columns (total 24 columns):\n",
      " #   Column                 Dtype         \n",
      "---  ------                 -----         \n",
      " 0   Invoice/Item Number    string        \n",
      " 1   Date                   datetime64[ns]\n",
      " 2   Store Number           uint16        \n",
      " 3   Store Name             string        \n",
      " 4   Address                string        \n",
      " 5   City                   string        \n",
      " 6   Zip Code               string        \n",
      " 7   Store Location         string        \n",
      " 8   County Number          Int16         \n",
      " 9   County                 string        \n",
      " 10  Category               Int32         \n",
      " 11  Category Name          string        \n",
      " 12  Vendor Number          Int16         \n",
      " 13  Vendor Name            string        \n",
      " 14  Item Number            string        \n",
      " 15  Item Description       string        \n",
      " 16  Pack                   uint16        \n",
      " 17  Bottle Volume (ml)     uint32        \n",
      " 18  State Bottle Cost      float64       \n",
      " 19  State Bottle Retail    float64       \n",
      " 20  Bottles Sold           int64         \n",
      " 21  Sale (Dollars)         float64       \n",
      " 22  Volume Sold (Liters)   float64       \n",
      " 23  Volume Sold (Gallons)  float64       \n",
      "dtypes: Int16(2), Int32(1), datetime64[ns](1), float64(5), int64(1), string(11), uint16(2), uint32(1)\n",
      "memory usage: 3.1 GB\n"
     ]
    }
   ],
   "source": [
    "df.info()"
   ]
  },
  {
   "cell_type": "code",
   "execution_count": 10,
   "metadata": {},
   "outputs": [],
   "source": [
    "CAT_COLS = [\n",
    "    'Date',\n",
    "    'Store Number',\n",
    "    'Store Name',\n",
    "    'Address',\n",
    "    'City',\n",
    "    'Zip Code',\n",
    "    'Store Location',\n",
    "    'County Number',\n",
    "    'County',\n",
    "    'Category',\n",
    "    'Category Name',\n",
    "    'Vendor Number',\n",
    "    'Vendor Name',\n",
    "    'Item Number',\n",
    "    'Item Description',\n",
    "    'Pack',\n",
    "    'Bottle Volume (ml)',\n",
    "]\n",
    "ORDERED_COLS = [\n",
    "    'Date',\n",
    "    'Bottle Volume (ml)',\n",
    "]\n",
    "\n",
    "pdc.cat_astype(df, cat_cols=CAT_COLS, sub_dtypes=SUB_DTYPES, ordered_cols=ORDERED_COLS)\n",
    "pdc.cat_astype(df_1, cat_cols=CAT_COLS, sub_dtypes=SUB_DTYPES, ordered_cols=ORDERED_COLS)"
   ]
  },
  {
   "cell_type": "code",
   "execution_count": 11,
   "metadata": {},
   "outputs": [
    {
     "name": "stdout",
     "output_type": "stream",
     "text": [
      "<class 'pandas.core.frame.DataFrame'>\n",
      "Index: 19665763 entries, 1000 to 19666762\n",
      "Data columns (total 24 columns):\n",
      " #   Column                 Dtype   \n",
      "---  ------                 -----   \n",
      " 0   Invoice/Item Number    string  \n",
      " 1   Date                   category\n",
      " 2   Store Number           category\n",
      " 3   Store Name             category\n",
      " 4   Address                category\n",
      " 5   City                   category\n",
      " 6   Zip Code               category\n",
      " 7   Store Location         category\n",
      " 8   County Number          category\n",
      " 9   County                 category\n",
      " 10  Category               category\n",
      " 11  Category Name          category\n",
      " 12  Vendor Number          category\n",
      " 13  Vendor Name            category\n",
      " 14  Item Number            category\n",
      " 15  Item Description       category\n",
      " 16  Pack                   category\n",
      " 17  Bottle Volume (ml)     category\n",
      " 18  State Bottle Cost      float64 \n",
      " 19  State Bottle Retail    float64 \n",
      " 20  Bottles Sold           int64   \n",
      " 21  Sale (Dollars)         float64 \n",
      " 22  Volume Sold (Liters)   float64 \n",
      " 23  Volume Sold (Gallons)  float64 \n",
      "dtypes: category(17), float64(5), int64(1), string(1)\n",
      "memory usage: 1.7 GB\n"
     ]
    }
   ],
   "source": [
    "df.info()"
   ]
  },
  {
   "cell_type": "code",
   "execution_count": 12,
   "metadata": {},
   "outputs": [
    {
     "name": "stdout",
     "output_type": "stream",
     "text": [
      "<class 'pandas.core.frame.DataFrame'>\n",
      "Index: 1000 entries, 0 to 999\n",
      "Data columns (total 24 columns):\n",
      " #   Column                 Non-Null Count  Dtype   \n",
      "---  ------                 --------------  -----   \n",
      " 0   Invoice/Item Number    1000 non-null   string  \n",
      " 1   Date                   1000 non-null   category\n",
      " 2   Store Number           1000 non-null   category\n",
      " 3   Store Name             1000 non-null   category\n",
      " 4   Address                1000 non-null   category\n",
      " 5   City                   1000 non-null   category\n",
      " 6   Zip Code               1000 non-null   category\n",
      " 7   Store Location         1000 non-null   category\n",
      " 8   County Number          1000 non-null   category\n",
      " 9   County                 1000 non-null   category\n",
      " 10  Category               1000 non-null   category\n",
      " 11  Category Name          1000 non-null   category\n",
      " 12  Vendor Number          1000 non-null   category\n",
      " 13  Vendor Name            1000 non-null   category\n",
      " 14  Item Number            1000 non-null   category\n",
      " 15  Item Description       1000 non-null   category\n",
      " 16  Pack                   1000 non-null   category\n",
      " 17  Bottle Volume (ml)     1000 non-null   category\n",
      " 18  State Bottle Cost      1000 non-null   float64 \n",
      " 19  State Bottle Retail    1000 non-null   float64 \n",
      " 20  Bottles Sold           1000 non-null   int64   \n",
      " 21  Sale (Dollars)         1000 non-null   float64 \n",
      " 22  Volume Sold (Liters)   1000 non-null   float64 \n",
      " 23  Volume Sold (Gallons)  1000 non-null   float64 \n",
      "dtypes: category(17), float64(5), int64(1), string(1)\n",
      "memory usage: 250.9 KB\n"
     ]
    }
   ],
   "source": [
    "df_1.info()"
   ]
  },
  {
   "cell_type": "code",
   "execution_count": 47,
   "metadata": {},
   "outputs": [
    {
     "data": {
      "text/plain": [
       "array([[<Axes: title={'center': 'count'}>]], dtype=object)"
      ]
     },
     "execution_count": 47,
     "metadata": {},
     "output_type": "execute_result"
    },
    {
     "data": {
      "image/png": "[encoded data removed]",
      "text/plain": [
       "<Figure size 640x480 with 1 Axes>"
      ]
     },
     "metadata": {},
     "output_type": "display_data"
    }
   ],
   "source": [
    "address_counts_1 = pd.value_counts(df_1.Address).to_frame().reset_index()\n",
    "most_orders_1 = address_counts_1['count'].max() # or df.loc[df['count'].idxmax()]\n",
    "address_counts_1.hist(bins=most_orders_1)"
   ]
  },
  {
   "cell_type": "code",
   "execution_count": 43,
   "metadata": {},
   "outputs": [
    {
     "data": {
      "text/html": [
       "<div>\n",
       "<style scoped>\n",
       "    .dataframe tbody tr th:only-of-type {\n",
       "        vertical-align: middle;\n",
       "    }\n",
       "\n",
       "    .dataframe tbody tr th {\n",
       "        vertical-align: top;\n",
       "    }\n",
       "\n",
       "    .dataframe thead th {\n",
       "        text-align: right;\n",
       "    }\n",
       "</style>\n",
       "<table border=\"1\" class=\"dataframe\">\n",
       "  <thead>\n",
       "    <tr style=\"text-align: right;\">\n",
       "      <th></th>\n",
       "      <th>Address</th>\n",
       "      <th>count</th>\n",
       "    </tr>\n",
       "  </thead>\n",
       "  <tbody>\n",
       "    <tr>\n",
       "      <th>0</th>\n",
       "      <td>1460 2ND AVE</td>\n",
       "      <td>131882</td>\n",
       "    </tr>\n",
       "    <tr>\n",
       "      <th>1</th>\n",
       "      <td>3221 SE 14th St</td>\n",
       "      <td>118450</td>\n",
       "    </tr>\n",
       "    <tr>\n",
       "      <th>2</th>\n",
       "      <td>3221 SE 14TH ST</td>\n",
       "      <td>110527</td>\n",
       "    </tr>\n",
       "    <tr>\n",
       "      <th>3</th>\n",
       "      <td></td>\n",
       "      <td>79927</td>\n",
       "    </tr>\n",
       "    <tr>\n",
       "      <th>4</th>\n",
       "      <td>1501 Michigan Ave</td>\n",
       "      <td>75677</td>\n",
       "    </tr>\n",
       "    <tr>\n",
       "      <th>...</th>\n",
       "      <td>...</td>\n",
       "      <td>...</td>\n",
       "    </tr>\n",
       "    <tr>\n",
       "      <th>3710</th>\n",
       "      <td>4860 Heatherstone Rd.</td>\n",
       "      <td>2</td>\n",
       "    </tr>\n",
       "    <tr>\n",
       "      <th>3711</th>\n",
       "      <td>3576, Dolphin Dr</td>\n",
       "      <td>2</td>\n",
       "    </tr>\n",
       "    <tr>\n",
       "      <th>3712</th>\n",
       "      <td>1685 W Uintah St. #101</td>\n",
       "      <td>2</td>\n",
       "    </tr>\n",
       "    <tr>\n",
       "      <th>3713</th>\n",
       "      <td>29538, 210th St.</td>\n",
       "      <td>1</td>\n",
       "    </tr>\n",
       "    <tr>\n",
       "      <th>3714</th>\n",
       "      <td>3345 270th Ave.</td>\n",
       "      <td>1</td>\n",
       "    </tr>\n",
       "  </tbody>\n",
       "</table>\n",
       "<p>3715 rows × 2 columns</p>\n",
       "</div>"
      ],
      "text/plain": [
       "                     Address   count\n",
       "0               1460 2ND AVE  131882\n",
       "1            3221 SE 14th St  118450\n",
       "2            3221 SE 14TH ST  110527\n",
       "3                              79927\n",
       "4          1501 Michigan Ave   75677\n",
       "...                      ...     ...\n",
       "3710   4860 Heatherstone Rd.       2\n",
       "3711        3576, Dolphin Dr       2\n",
       "3712  1685 W Uintah St. #101       2\n",
       "3713        29538, 210th St.       1\n",
       "3714         3345 270th Ave.       1\n",
       "\n",
       "[3715 rows x 2 columns]"
      ]
     },
     "execution_count": 43,
     "metadata": {},
     "output_type": "execute_result"
    }
   ],
   "source": [
    "address_counts = pd.value_counts(df.Address).to_frame().reset_index()\n",
    "address_counts"
   ]
  }
 ],
 "metadata": {
  "kernelspec": {
   "display_name": "base",
   "language": "python",
   "name": "python3"
  },
  "language_info": {
   "codemirror_mode": {
    "name": "ipython",
    "version": 3
   },
   "file_extension": ".py",
   "mimetype": "text/x-python",
   "name": "python",
   "nbconvert_exporter": "python",
   "pygments_lexer": "ipython3",
   "version": "3.11.5"
  }
 },
 "nbformat": 4,
 "nbformat_minor": 2
}
